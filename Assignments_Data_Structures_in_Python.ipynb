{
  "nbformat": 4,
  "nbformat_minor": 0,
  "metadata": {
    "colab": {
      "provenance": [],
      "authorship_tag": "ABX9TyPdalpQpHGSmTM9iJ9dBwGj",
      "include_colab_link": true
    },
    "kernelspec": {
      "name": "python3",
      "display_name": "Python 3"
    },
    "language_info": {
      "name": "python"
    }
  },
  "cells": [
    {
      "cell_type": "markdown",
      "metadata": {
        "id": "view-in-github",
        "colab_type": "text"
      },
      "source": [
        "<a href=\"https://colab.research.google.com/github/Sohini775/Data-Structures-in-Python/blob/main/Assignments_Data_Structures_in_Python.ipynb\" target=\"_parent\"><img src=\"https://colab.research.google.com/assets/colab-badge.svg\" alt=\"Open In Colab\"/></a>"
      ]
    },
    {
      "cell_type": "code",
      "execution_count": null,
      "metadata": {
        "id": "iEMMy1PO_tNt"
      },
      "outputs": [],
      "source": []
    },
    {
      "cell_type": "markdown",
      "source": [],
      "metadata": {
        "id": "BfTVloOv_us7"
      }
    },
    {
      "cell_type": "code",
      "source": [
        "#1. code that reverse string\n",
        "s1= \"I am\"\n",
        "s2= \"sohini\"\n",
        "s1 + \" \"+ s2"
      ],
      "metadata": {
        "colab": {
          "base_uri": "https://localhost:8080/",
          "height": 36
        },
        "id": "M3rH5RgV_u-d",
        "outputId": "16f940b4-a0b9-4254-de71-3da6260ae071"
      },
      "execution_count": null,
      "outputs": [
        {
          "output_type": "execute_result",
          "data": {
            "text/plain": [
              "'I am sohini'"
            ],
            "application/vnd.google.colaboratory.intrinsic+json": {
              "type": "string"
            }
          },
          "metadata": {},
          "execution_count": 11
        }
      ]
    },
    {
      "cell_type": "code",
      "source": [
        "#2. count the number of vowels in a string\n",
        "def count_vowels (s):\n",
        "    vowels = \"aeiouAEIOU\"\n",
        "    count = 0\n",
        "    for char in s:\n",
        "        if char in vowels:\n",
        "            count += 1\n",
        "    return count\n",
        "s= \"I AM SOHINI\"\n",
        "print (\"number of vowels:\", count_vowels (s))"
      ],
      "metadata": {
        "colab": {
          "base_uri": "https://localhost:8080/"
        },
        "id": "h1Wd50W8_vBv",
        "outputId": "e7a93488-a3a4-4f89-e240-62043ba6f64f"
      },
      "execution_count": null,
      "outputs": [
        {
          "output_type": "stream",
          "name": "stdout",
          "text": [
            "number of vowels: 5\n"
          ]
        }
      ]
    },
    {
      "cell_type": "code",
      "source": [
        "#3 check string is palindrome or not\n",
        "s1= \"helloworld\"\n",
        "s1 [::-1]"
      ],
      "metadata": {
        "colab": {
          "base_uri": "https://localhost:8080/",
          "height": 36
        },
        "id": "8aj_vAgT_vVD",
        "outputId": "f4da76c5-f762-497f-db86-388051ff5290"
      },
      "execution_count": null,
      "outputs": [
        {
          "output_type": "execute_result",
          "data": {
            "text/plain": [
              "'dlrowolleh'"
            ],
            "application/vnd.google.colaboratory.intrinsic+json": {
              "type": "string"
            }
          },
          "metadata": {},
          "execution_count": 38
        }
      ]
    },
    {
      "cell_type": "code",
      "source": [
        "#4 two given string is anagram of each other\n",
        "s1= \"hello\"\n",
        "s2= \"hello\"\n",
        "s1 == s2\n",
        "\n",
        "\n"
      ],
      "metadata": {
        "colab": {
          "base_uri": "https://localhost:8080/"
        },
        "id": "lrfeBdn_JaRm",
        "outputId": "ec4e40ca-4c4b-45b1-bf0b-2abb4acd2315"
      },
      "execution_count": null,
      "outputs": [
        {
          "output_type": "execute_result",
          "data": {
            "text/plain": [
              "True"
            ]
          },
          "metadata": {},
          "execution_count": 43
        }
      ]
    },
    {
      "cell_type": "code",
      "source": [
        "s1= \"hello\"\n",
        "s2= \"Hello\"\n",
        "s1 == s2"
      ],
      "metadata": {
        "colab": {
          "base_uri": "https://localhost:8080/"
        },
        "id": "hMqsOsDMKBPr",
        "outputId": "0a03c2aa-1827-48f5-f9b5-029a0f77648a"
      },
      "execution_count": null,
      "outputs": [
        {
          "output_type": "execute_result",
          "data": {
            "text/plain": [
              "False"
            ]
          },
          "metadata": {},
          "execution_count": 44
        }
      ]
    },
    {
      "cell_type": "code",
      "source": [
        "s1= \"hello\"\n",
        "s2= \"Hello\"\n",
        "s1.lower()==s2.lower ()"
      ],
      "metadata": {
        "colab": {
          "base_uri": "https://localhost:8080/"
        },
        "id": "Ea75eFVGLBOd",
        "outputId": "15acd2da-7056-400a-b0dc-42b68879b1f6"
      },
      "execution_count": null,
      "outputs": [
        {
          "output_type": "execute_result",
          "data": {
            "text/plain": [
              "True"
            ]
          },
          "metadata": {},
          "execution_count": 46
        }
      ]
    },
    {
      "cell_type": "code",
      "source": [
        "#5 Finf substring in another string\n",
        "def find_all_occurrences(main_string, substring):\n",
        "    occurrences = []\n",
        "    start = 0\n",
        "\n",
        "    while True:\n",
        "        start = main_string.find(substring, start)\n",
        "        if start == -1:  # No more occurrences\n",
        "            break\n",
        "        occurrences.append(start)\n",
        "        start += 1  # Move start index to avoid overlapping matches\n",
        "\n",
        "    return occurrences\n",
        "\n",
        "\n",
        "main_string = \"This is a test string, and this is another test string.\"\n",
        "substring = \"is\"\n",
        "print(find_all_occurrences(main_string, substring))\n"
      ],
      "metadata": {
        "id": "qK1bLuH5LHbQ",
        "colab": {
          "base_uri": "https://localhost:8080/"
        },
        "outputId": "2aa1ad88-a535-40c1-802a-d35dea6e0644"
      },
      "execution_count": null,
      "outputs": [
        {
          "output_type": "stream",
          "name": "stdout",
          "text": [
            "[2, 5, 29, 32]\n"
          ]
        }
      ]
    },
    {
      "cell_type": "code",
      "source": [
        "#6 basic string compression using counts of repeated characters\n",
        "def compress_string(s):\n",
        "    compressed = []\n",
        "    count = 1\n",
        "\n",
        "    for i in range(1, len(s)):\n",
        "        if s[i] == s[i - 1]:\n",
        "            count += 1\n",
        "        else:\n",
        "            compressed.append(s[i - 1] + str(count))\n",
        "            count = 1\n",
        "\n",
        "    # Add the last set of characters\n",
        "    compressed.append(s[-1] + str(count))\n",
        "\n",
        "    compressed_string = ''.join(compressed)\n",
        "\n",
        "    # Return the original string if the compressed string is not shorter\n",
        "    return compressed_string if len(compressed_string) < len(s) else s\n",
        "\n",
        "\n",
        "input_string = \"aabcccccaaa\"\n",
        "compressed_output = compress_string(input_string)\n",
        "print(compressed_output)\n"
      ],
      "metadata": {
        "colab": {
          "base_uri": "https://localhost:8080/"
        },
        "id": "8lywexhYkxQ8",
        "outputId": "dfa1cd3f-6ff4-44ce-cd29-6f498527e122"
      },
      "execution_count": null,
      "outputs": [
        {
          "output_type": "stream",
          "name": "stdout",
          "text": [
            "a2b1c5a3\n"
          ]
        }
      ]
    },
    {
      "cell_type": "code",
      "source": [
        "#7 code a all unique character\n",
        "def has_all_unique_characters(s):\n",
        "\n",
        "    seen_characters = set()\n",
        "\n",
        "    for char in s:\n",
        "        if char in seen_characters:\n",
        "            return False\n",
        "        seen_characters.add(char)\n",
        "\n",
        "    return True\n",
        "\n",
        "input_string = \"abcdefg\"\n",
        "output = has_all_unique_characters(input_string)\n",
        "print(output)  # Output will be True\n",
        "\n",
        "input_string = \"hello\"\n",
        "output = has_all_unique_characters(input_string)\n",
        "print(output)  # Output will be False"
      ],
      "metadata": {
        "colab": {
          "base_uri": "https://localhost:8080/"
        },
        "id": "W25Kpht2lqez",
        "outputId": "7589810c-1483-4969-8a49-8c9212fdd425"
      },
      "execution_count": null,
      "outputs": [
        {
          "output_type": "stream",
          "name": "stdout",
          "text": [
            "True\n",
            "False\n"
          ]
        }
      ]
    },
    {
      "cell_type": "code",
      "source": [
        "#8uppercase to lowercase\n",
        "def convert_string_cases(s):\n",
        "    uppercase_string = s.upper()\n",
        "    lowercase_string = s.lower()\n",
        "\n",
        "    return uppercase_string, lowercase_string\n",
        "\n",
        "\n",
        "input_string = \"Hello World!\"\n",
        "uppercase, lowercase = convert_string_cases(input_string)\n",
        "print(f\"Uppercase: {uppercase}\")\n",
        "print(f\"Lowercase: {lowercase}\")\n"
      ],
      "metadata": {
        "colab": {
          "base_uri": "https://localhost:8080/"
        },
        "id": "uZF1btmhlqoB",
        "outputId": "c75e1c72-7217-4fc4-ab58-c2b1a85a159e"
      },
      "execution_count": null,
      "outputs": [
        {
          "output_type": "stream",
          "name": "stdout",
          "text": [
            "Uppercase: HELLO WORLD!\n",
            "Lowercase: hello world!\n"
          ]
        }
      ]
    },
    {
      "cell_type": "code",
      "source": [
        "#9 total number of words in a string\n",
        "def count_words(s):\n",
        "    # Split the string into words using whitespace as the delimiter\n",
        "    words = s.split()\n",
        "\n",
        "    # Return the number of words\n",
        "    return len(words)\n",
        "\n",
        "\n",
        "input_string = \"Hello world! I am learning python.\"\n",
        "word_count = count_words(input_string)\n",
        "print(f\"Total number of words: {word_count}\")\n"
      ],
      "metadata": {
        "colab": {
          "base_uri": "https://localhost:8080/"
        },
        "id": "8f_SNc3YlqrC",
        "outputId": "294ea854-c12b-4138-b309-a49d999a6423"
      },
      "execution_count": null,
      "outputs": [
        {
          "output_type": "stream",
          "name": "stdout",
          "text": [
            "Total number of words: 6\n"
          ]
        }
      ]
    },
    {
      "cell_type": "code",
      "source": [
        "#10concatenate two string without using + operator\n",
        "def concatenate_strings(s1, s2):\n",
        "    return ''.join([s1, s2])\n",
        "\n",
        "string1 = \"Hello\"\n",
        "string2 = \"World\"\n",
        "result = concatenate_strings(string1, string2)\n",
        "print(result)\n"
      ],
      "metadata": {
        "colab": {
          "base_uri": "https://localhost:8080/"
        },
        "id": "spWLRN_tlqvY",
        "outputId": "64a5d320-069a-449d-8507-a20637eabc1c"
      },
      "execution_count": null,
      "outputs": [
        {
          "output_type": "stream",
          "name": "stdout",
          "text": [
            "HelloWorld\n"
          ]
        }
      ]
    },
    {
      "cell_type": "code",
      "source": [
        "#11 remove all occurances of a specific element from a list\n",
        "def remove_all_occurrences(lst, element):\n",
        "    return [item for item in lst if item != element]\n",
        "\n",
        "\n",
        "input_list = [1, 2, 3, 4, 2, 5, 2, 6]\n",
        "element_to_remove = 2\n",
        "result = remove_all_occurrences(input_list, element_to_remove)\n",
        "print(result)"
      ],
      "metadata": {
        "colab": {
          "base_uri": "https://localhost:8080/"
        },
        "id": "B7qSY41Slqz3",
        "outputId": "e585d8c8-c437-4c9f-cc0e-4f535f96aefe"
      },
      "execution_count": null,
      "outputs": [
        {
          "output_type": "stream",
          "name": "stdout",
          "text": [
            "[1, 3, 4, 5, 6]\n"
          ]
        }
      ]
    },
    {
      "cell_type": "code",
      "source": [
        "#12 implement a code to find the second largest number in a given list of integers\n",
        "def find_second_largest(lst):\n",
        "    if len(lst) < 2:\n",
        "        return None  # Not enough elements for a second largest\n",
        "\n",
        "    # Remove duplicates and sort the list\n",
        "    unique_lst = list(set(lst))\n",
        "    unique_lst.sort(reverse=True)\n",
        "\n",
        "    if len(unique_lst) < 2:\n",
        "        return None  # Not enough unique elements for a second largest\n",
        "\n",
        "    return unique_lst[1]\n",
        "\n",
        "\n",
        "input_list = [10, 5, 20, 8, 20, 5]\n",
        "second_largest = find_second_largest(input_list)\n",
        "print(f\"The second largest number is: {second_largest}\")"
      ],
      "metadata": {
        "colab": {
          "base_uri": "https://localhost:8080/"
        },
        "id": "-k1tv2G_lq3u",
        "outputId": "282eed27-3bc2-47d9-9cec-22f5663f4633"
      },
      "execution_count": null,
      "outputs": [
        {
          "output_type": "stream",
          "name": "stdout",
          "text": [
            "The second largest number is: 10\n"
          ]
        }
      ]
    },
    {
      "cell_type": "code",
      "source": [
        "#13 count the occurances for each elements ina list and return a dictionary with elements as keys and their counts as values\n",
        "def count_occurrences(lst):\n",
        "    occurrence_dict = {}\n",
        "\n",
        "    for element in lst:\n",
        "        if element in occurrence_dict:\n",
        "            occurrence_dict[element] += 1\n",
        "        else:\n",
        "            occurrence_dict[element] = 1\n",
        "\n",
        "    return occurrence_dict\n",
        "\n",
        "\n",
        "input_list = [1, 2, 2, 3, 4, 3, 3, 5]\n",
        "result = count_occurrences(input_list)\n",
        "print(result)"
      ],
      "metadata": {
        "colab": {
          "base_uri": "https://localhost:8080/"
        },
        "id": "hn6cDjmWoEj9",
        "outputId": "eceebdae-87b3-47c3-9359-8e246c39cdb7"
      },
      "execution_count": null,
      "outputs": [
        {
          "output_type": "stream",
          "name": "stdout",
          "text": [
            "{1: 1, 2: 2, 3: 3, 4: 1, 5: 1}\n"
          ]
        }
      ]
    },
    {
      "cell_type": "code",
      "source": [
        "#14 code to reverse a list in place without using any built in riverse functsions\n",
        "def reverse_list(lst):\n",
        "    left = 0\n",
        "    right = len(lst) - 1\n",
        "\n",
        "    while left < right:\n",
        "        # Swap the elements at left and right indices\n",
        "        lst[left], lst[right] = lst[right], lst[left]\n",
        "        # Move the pointers towards the center\n",
        "        left += 1\n",
        "        right -= 1\n",
        "\n",
        "input_list = [1, 2, 3, 4, 5]\n",
        "reverse_list(input_list)\n",
        "print(input_list)\n"
      ],
      "metadata": {
        "colab": {
          "base_uri": "https://localhost:8080/"
        },
        "id": "V5r-H1nroEnK",
        "outputId": "d7e17820-4374-4ac8-b39f-cbff01b10853"
      },
      "execution_count": null,
      "outputs": [
        {
          "output_type": "stream",
          "name": "stdout",
          "text": [
            "[5, 4, 3, 2, 1]\n"
          ]
        }
      ]
    },
    {
      "cell_type": "code",
      "source": [
        "#15 implement a code to find and remove duplicates from a list while preserving the originial order elements\n",
        "def remove_duplicates(lst):\n",
        "    seen = set()\n",
        "    result = []\n",
        "\n",
        "    for item in lst:\n",
        "        if item not in seen:\n",
        "            result.append(item)\n",
        "            seen.add(item)\n",
        "\n",
        "    return result\n",
        "\n",
        "\n",
        "input_list = [1, 2, 2, 3, 4, 3, 5]\n",
        "no_duplicates = remove_duplicates(input_list)\n",
        "print(no_duplicates)\n"
      ],
      "metadata": {
        "colab": {
          "base_uri": "https://localhost:8080/"
        },
        "id": "T4x2wIwYoEsz",
        "outputId": "1a6d6043-247d-49f8-ebd2-08bdb85a23d5"
      },
      "execution_count": null,
      "outputs": [
        {
          "output_type": "stream",
          "name": "stdout",
          "text": [
            "[1, 2, 3, 4, 5]\n"
          ]
        }
      ]
    },
    {
      "cell_type": "code",
      "source": [
        "#16 create  a code to check if a given list is sorted or not\n",
        "def is_sorted(lst):\n",
        "    if not lst:\n",
        "        return \"The list is empty.\"\n",
        "\n",
        "    ascending = all(lst[i] <= lst[i + 1] for i in range(len(lst) - 1))\n",
        "    descending = all(lst[i] >= lst[i + 1] for i in range(len(lst) - 1))\n",
        "\n",
        "    if ascending:\n",
        "        return \"The list is sorted in ascending order.\"\n",
        "    elif descending:\n",
        "        return \"The list is sorted in descending order.\"\n",
        "    else:\n",
        "        return \"The list is not sorted.\"\n",
        "\n",
        "\n",
        "input_list1 = [1, 2, 2, 3, 4]\n",
        "input_list2 = [5, 4, 3, 2, 1]\n",
        "input_list3 = [1, 3, 2, 4, 5]\n",
        "\n",
        "print(is_sorted(input_list1))\n",
        "print(is_sorted(input_list2))\n",
        "print(is_sorted(input_list3))\n"
      ],
      "metadata": {
        "colab": {
          "base_uri": "https://localhost:8080/"
        },
        "id": "KUW7pqfkoEwC",
        "outputId": "e40b0322-3434-444f-9392-a6251b629416"
      },
      "execution_count": null,
      "outputs": [
        {
          "output_type": "stream",
          "name": "stdout",
          "text": [
            "The list is sorted in ascending order.\n",
            "The list is sorted in descending order.\n",
            "The list is not sorted.\n"
          ]
        }
      ]
    },
    {
      "cell_type": "code",
      "source": [
        "#17 write a code to merge two sorted lists into a single sorted list\n",
        "def merge_sorted_lists(list1, list2):\n",
        "    merged_list = []\n",
        "    i, j = 0, 0\n",
        "\n",
        "    # Traverse both lists and append smaller element to merged_list\n",
        "    while i < len(list1) and j < len(list2):\n",
        "        if list1[i] < list2[j]:\n",
        "            merged_list.append(list1[i])\n",
        "            i += 1\n",
        "        else:\n",
        "            merged_list.append(list2[j])\n",
        "            j += 1\n",
        "\n",
        "    # Append remaining elements of list1, if any\n",
        "    while i < len(list1):\n",
        "        merged_list.append(list1[i])\n",
        "        i += 1\n",
        "\n",
        "    # Append remaining elements of list2, if any\n",
        "    while j < len(list2):\n",
        "        merged_list.append(list2[j])\n",
        "        j += 1\n",
        "\n",
        "    return merged_list\n",
        "\n",
        "\n",
        "sorted_list1 = [1, 3, 5, 7]\n",
        "sorted_list2 = [2, 4, 6, 8]\n",
        "merged_list = merge_sorted_lists(sorted_list1, sorted_list2)\n",
        "print(merged_list)\n"
      ],
      "metadata": {
        "colab": {
          "base_uri": "https://localhost:8080/"
        },
        "id": "_k4i6moBoE0G",
        "outputId": "42739187-fa8e-4c06-cdb7-90e6a1732c75"
      },
      "execution_count": null,
      "outputs": [
        {
          "output_type": "stream",
          "name": "stdout",
          "text": [
            "[1, 2, 3, 4, 5, 6, 7, 8]\n"
          ]
        }
      ]
    },
    {
      "cell_type": "code",
      "source": [
        "#18 implement a code for finding out intersections of two given lists\n",
        "def find_intersection(list1, list2):\n",
        "    # Convert lists to sets to find intersections\n",
        "    set1 = set(list1)\n",
        "    set2 = set(list2)\n",
        "\n",
        "    # Find the intersection\n",
        "    intersection = set1 & set2\n",
        "\n",
        "    # Convert the set back to a list\n",
        "    return list(intersection)\n",
        "\n",
        "list1 = [1, 2, 3, 4, 5]\n",
        "list2 = [4, 5, 6, 7, 8]\n",
        "intersection = find_intersection(list1, list2)\n",
        "print(intersection)\n"
      ],
      "metadata": {
        "colab": {
          "base_uri": "https://localhost:8080/"
        },
        "id": "1VzfbX48oE4y",
        "outputId": "8bfc465b-da7b-4173-ab54-d36e65bfbc0b"
      },
      "execution_count": null,
      "outputs": [
        {
          "output_type": "stream",
          "name": "stdout",
          "text": [
            "[4, 5]\n"
          ]
        }
      ]
    },
    {
      "cell_type": "code",
      "source": [
        "#19 create a code for finding out union of two lists without duplicates\n",
        "def find_union(list1, list2):\n",
        "    # Convert lists to sets to remove duplicates and find the union\n",
        "    set1 = set(list1)\n",
        "    set2 = set(list2)\n",
        "\n",
        "    # Find the union of both sets\n",
        "    union = set1 | set2\n",
        "\n",
        "    # Convert the set back to a list\n",
        "    return list(union)\n",
        "\n",
        "\n",
        "list1 = [1, 2, 3, 4, 5]\n",
        "list2 = [4, 5, 6, 7, 8]\n",
        "union = find_union(list1, list2)\n",
        "print(union)\n"
      ],
      "metadata": {
        "colab": {
          "base_uri": "https://localhost:8080/"
        },
        "id": "KgP_YrJcoE7v",
        "outputId": "c73b3399-a6b9-452d-ef98-7cec763cbaa0"
      },
      "execution_count": null,
      "outputs": [
        {
          "output_type": "stream",
          "name": "stdout",
          "text": [
            "[1, 2, 3, 4, 5, 6, 7, 8]\n"
          ]
        }
      ]
    },
    {
      "cell_type": "code",
      "source": [
        "#20 code to shuffle a given list randomly without using any built in shuffle functions\n",
        "import random\n",
        "\n",
        "def shuffle_list(lst):\n",
        "    n = len(lst)\n",
        "    for i in range(n - 1, 0, -1):\n",
        "        # Pick a random index from 0 to i\n",
        "        j = random.randint(0, i)\n",
        "        # Swap the element at i with the element at the random index\n",
        "        lst[i], lst[j] = lst[j], lst[i]\n",
        "\n",
        "\n",
        "input_list = [1, 2, 3, 4, 5]\n",
        "shuffle_list(input_list)\n",
        "print(input_list)\n"
      ],
      "metadata": {
        "colab": {
          "base_uri": "https://localhost:8080/"
        },
        "id": "pVr_YRByoFX1",
        "outputId": "ba34729e-36e4-4a00-cf3d-42ddc6d08dad"
      },
      "execution_count": null,
      "outputs": [
        {
          "output_type": "stream",
          "name": "stdout",
          "text": [
            "[1, 5, 3, 4, 2]\n"
          ]
        }
      ]
    },
    {
      "cell_type": "code",
      "source": [
        "#21 code that takes two tuples as input and returns a new tuple containing elements that are common to both input tuples\n",
        "def find_union(list1, list2):\n",
        "    # Convert lists to sets to remove duplicates and find the union\n",
        "    set1 = set(list1)\n",
        "    set2 = set(list2)\n",
        "\n",
        "    # Find the union of both sets\n",
        "    union = set1 | set2\n",
        "\n",
        "    # Convert the set back to a list\n",
        "    return list(union)\n",
        "\n",
        "list1 = [1, 2, 3, 4, 5]\n",
        "list2 = [4, 5, 6, 7, 8]\n",
        "union = find_union(list1, list2)\n",
        "print(union)\n"
      ],
      "metadata": {
        "colab": {
          "base_uri": "https://localhost:8080/"
        },
        "id": "1l7D7xO2oFbZ",
        "outputId": "d91c0536-4ca6-4ad0-84ce-b2653b4459b6"
      },
      "execution_count": null,
      "outputs": [
        {
          "output_type": "stream",
          "name": "stdout",
          "text": [
            "[1, 2, 3, 4, 5, 6, 7, 8]\n"
          ]
        }
      ]
    },
    {
      "cell_type": "code",
      "source": [
        "#22\n",
        "def get_set_from_input(prompt):\n",
        "    # Prompt the user for input and split by commas\n",
        "    input_string = input(prompt)\n",
        "\n",
        "    # Convert the input string to a set of integers\n",
        "    return set(map(int, input_string.split(',')))\n",
        "\n",
        "def main():\n",
        "    # Get two sets from the user\n",
        "    set1 = get_set_from_input(\"Enter the first set of integers, separated by commas: \")\n",
        "    set2 = get_set_from_input(\"Enter the second set of integers, separated by commas: \")\n",
        "\n",
        "    # Find the intersection of the two sets\n",
        "    intersection = set1 & set2\n",
        "\n",
        "    # Print the intersection\n",
        "    print(f\"The intersection of the two sets is: {sorted(intersection)}\")\n",
        "\n",
        "# Run the main function\n",
        "if __name__ == \"__main__\":\n",
        "    main()\n"
      ],
      "metadata": {
        "colab": {
          "base_uri": "https://localhost:8080/"
        },
        "id": "5-ahzqUrrTB8",
        "outputId": "bd8f4b22-f636-44f5-d45e-f828d425d80d"
      },
      "execution_count": null,
      "outputs": [
        {
          "output_type": "stream",
          "name": "stdout",
          "text": [
            "Enter the first set of integers, separated by commas: 10, 20, 30, 40\n",
            "Enter the second set of integers, separated by commas: 30, 20, 45, 55\n",
            "The intersection of the two sets is: [20, 30]\n"
          ]
        }
      ]
    },
    {
      "cell_type": "code",
      "source": [
        "#23 code to concatenate two tuples. The function should take two tuples as input and return a new tuple containing elements from the both input tuples\n",
        "def concatenate_tuples(tuple1, tuple2):\n",
        "    # Concatenate the two tuples\n",
        "    return tuple1 + tuple2\n",
        "\n",
        "\n",
        "tuple1 = (1, 2, 3)\n",
        "tuple2 = (4, 5, 6)\n",
        "result = concatenate_tuples(tuple1, tuple2)\n",
        "print(result)\n"
      ],
      "metadata": {
        "colab": {
          "base_uri": "https://localhost:8080/"
        },
        "id": "bNTVds3hrTHW",
        "outputId": "b4be0560-bc52-4eff-9f5f-c7a85ddbd95a"
      },
      "execution_count": null,
      "outputs": [
        {
          "output_type": "stream",
          "name": "stdout",
          "text": [
            "(1, 2, 3, 4, 5, 6)\n"
          ]
        }
      ]
    },
    {
      "cell_type": "code",
      "source": [
        "#24 code that prompts the user to input two sets of string. Then print the elemnets that are present in the first set but not in second set\n",
        "def get_set_from_input(prompt):\n",
        "    # Prompt the user for input and split by commas\n",
        "    input_string = input(prompt)\n",
        "\n",
        "    # Convert the input string to a set of strings\n",
        "    return set(input_string.split(','))\n",
        "\n",
        "def main():\n",
        "    # Get two sets from the user\n",
        "    set1 = get_set_from_input(\"Enter the first set of strings, separated by commas: \")\n",
        "    set2 = get_set_from_input(\"Enter the second set of strings, separated by commas: \")\n",
        "\n",
        "    # Find elements present in the first set but not in the second set\n",
        "    difference = set1 - set2\n",
        "\n",
        "    # Print the result\n",
        "    print(f\"Elements in the first set but not in the second set: {sorted(difference)}\")\n",
        "\n",
        "# Run the main function\n",
        "if __name__ == \"__main__\":\n",
        "    main()\n"
      ],
      "metadata": {
        "colab": {
          "base_uri": "https://localhost:8080/"
        },
        "id": "eBmesoxSrTLm",
        "outputId": "9c63bd13-da2a-4410-fbf2-ad083b268010"
      },
      "execution_count": null,
      "outputs": [
        {
          "output_type": "stream",
          "name": "stdout",
          "text": [
            "Enter the first set of strings, separated by commas: \"banana\", \"apple\"\n",
            "Enter the second set of strings, separated by commas: \"apple\", \"mango\"\n",
            "Elements in the first set but not in the second set: [' \"apple\"', '\"banana\"']\n"
          ]
        }
      ]
    },
    {
      "cell_type": "code",
      "source": [
        "#25 code that takes a tuple and two integers as input. the function should return a new tuple containing elements from the original tuple within the specificed ranfe of indices\n",
        "def slice_tuple(tpl, start, end):\n",
        "    # Ensure the start and end indices are within the valid range\n",
        "    if start < 0:\n",
        "        start = 0\n",
        "    if end > len(tpl):\n",
        "        end = len(tpl)\n",
        "\n",
        "    # Return the sliced tuple\n",
        "    return tpl[start:end]\n",
        "\n",
        "original_tuple = (10, 20, 30, 40, 50, 60, 70)\n",
        "start_index = 2\n",
        "end_index = 5\n",
        "result = slice_tuple(original_tuple, start_index, end_index)\n",
        "print(result)\n"
      ],
      "metadata": {
        "colab": {
          "base_uri": "https://localhost:8080/"
        },
        "id": "NluJVAXjrTPh",
        "outputId": "ad62e21f-2ad8-4775-a77c-7b38362e6961"
      },
      "execution_count": null,
      "outputs": [
        {
          "output_type": "stream",
          "name": "stdout",
          "text": [
            "(30, 40, 50)\n"
          ]
        }
      ]
    },
    {
      "cell_type": "code",
      "source": [
        "#26 write a code that prompts the user to input two sets of characters. then, print the union of these two sets\n",
        "def get_set_from_input(prompt):\n",
        "    # Prompt the user for input and split by commas\n",
        "    input_string = input(prompt)\n",
        "\n",
        "    # Convert the input string to a set of characters\n",
        "    return set(input_string.replace(' ', '').split(','))\n",
        "\n",
        "def main():\n",
        "    # Get two sets from the user\n",
        "    set1 = get_set_from_input(\"Enter the first set of characters, separated by commas: \")\n",
        "    set2 = get_set_from_input(\"Enter the second set of characters, separated by commas: \")\n",
        "\n",
        "    # Find the union of the two sets\n",
        "    union = set1 | set2\n",
        "\n",
        "    # Print the union\n",
        "    print(f\"The union of the two sets is: {sorted(union)}\")\n",
        "\n",
        "# Run the main function\n",
        "if __name__ == \"__main__\":\n",
        "    main()\n"
      ],
      "metadata": {
        "colab": {
          "base_uri": "https://localhost:8080/"
        },
        "id": "SzE2yQEdrTTS",
        "outputId": "2641e879-4089-43a6-dd9c-aae893dd48d6"
      },
      "execution_count": null,
      "outputs": [
        {
          "output_type": "stream",
          "name": "stdout",
          "text": [
            "Enter the first set of characters, separated by commas: \"a\", \"b\", \"p\", \"s\"\n",
            "Enter the second set of characters, separated by commas: \"p\", \"s\", \"d\"\n",
            "The union of the two sets is: ['\"a\"', '\"b\"', '\"d\"', '\"p\"', '\"s\"']\n"
          ]
        }
      ]
    },
    {
      "cell_type": "code",
      "source": [
        "#27 code that takes a tuple as a integers as input. The functions should return the maximum and minimum values from the tuples using the tuple unpacking\n",
        "def find_max_min(tpl):\n",
        "    # Unpack the tuple into individual elements\n",
        "    a, b, *rest = tpl\n",
        "\n",
        "    # Initialize max and min with the first two elements\n",
        "    max_val = min_val = max(a, b)\n",
        "\n",
        "    # Iterate through the remaining elements\n",
        "    for value in rest:\n",
        "        if value > max_val:\n",
        "            max_val = value\n",
        "        if value < min_val:\n",
        "            min_val = value\n",
        "\n",
        "    return max_val, min_val\n",
        "\n",
        "\n",
        "input_tuple = (10, 20, 5, 30, 15)\n",
        "max_value, min_value = find_max_min(input_tuple)\n",
        "print(f\"Maximum value: {max_value}\")\n",
        "print(f\"Minimum value: {min_value}\")\n"
      ],
      "metadata": {
        "colab": {
          "base_uri": "https://localhost:8080/"
        },
        "id": "rKowYBrcrTY5",
        "outputId": "848e4ce2-c89a-40dd-d4f6-396cc37a66f9"
      },
      "execution_count": null,
      "outputs": [
        {
          "output_type": "stream",
          "name": "stdout",
          "text": [
            "Maximum value: 30\n",
            "Minimum value: 5\n"
          ]
        }
      ]
    },
    {
      "cell_type": "code",
      "source": [
        "#28 create a code that defines two sets of integer, then print the union, intersection and differences of those two sets\n",
        "def print_set_operations(set1, set2):\n",
        "    # Calculate union\n",
        "    union = set1 | set2\n",
        "\n",
        "    # Calculate intersection\n",
        "    intersection = set1 & set2\n",
        "\n",
        "    # Calculate differences\n",
        "    difference1 = set1 - set2  # Elements in set1 but not in set2\n",
        "    difference2 = set2 - set1  # Elements in set2 but not in set1\n",
        "\n",
        "    # Print results\n",
        "    print(f\"Union of the two sets: {sorted(union)}\")\n",
        "    print(f\"Intersection of the two sets: {sorted(intersection)}\")\n",
        "    print(f\"Difference of set1 - set2: {sorted(difference1)}\")\n",
        "    print(f\"Difference of set2 - set1: {sorted(difference2)}\")\n",
        "\n",
        "\n",
        "set1 = {1, 2, 3, 4, 5}\n",
        "set2 = {4, 5, 6, 7, 8}\n",
        "\n",
        "# Call the function with the example sets\n",
        "print_set_operations(set1, set2)\n"
      ],
      "metadata": {
        "colab": {
          "base_uri": "https://localhost:8080/"
        },
        "id": "86AfVAlqrTgD",
        "outputId": "0fa5f736-b9ba-4068-caf9-169d222538aa"
      },
      "execution_count": null,
      "outputs": [
        {
          "output_type": "stream",
          "name": "stdout",
          "text": [
            "Union of the two sets: [1, 2, 3, 4, 5, 6, 7, 8]\n",
            "Intersection of the two sets: [4, 5]\n",
            "Difference of set1 - set2: [1, 2, 3]\n",
            "Difference of set2 - set1: [6, 7, 8]\n"
          ]
        }
      ]
    },
    {
      "cell_type": "code",
      "source": [
        "#29 write a code that takes tuple and element as input. the function should return the count of occurances of the given element in the tuple\n",
        "def count_occurrences(tpl, element):\n",
        "    # Count occurrences of the element in the tuple\n",
        "    count = tpl.count(element)\n",
        "    return count\n",
        "\n",
        "\n",
        "input_tuple = (1, 2, 3, 2, 4, 2, 5)\n",
        "element_to_count = 2\n",
        "count = count_occurrences(input_tuple, element_to_count)\n",
        "print(f\"Element {element_to_count} occurs {count} times in the tuple.\")\n"
      ],
      "metadata": {
        "colab": {
          "base_uri": "https://localhost:8080/"
        },
        "id": "3rFMJ-FJrTkz",
        "outputId": "32f1e44c-d82f-4d15-c26b-9db89fdd189d"
      },
      "execution_count": null,
      "outputs": [
        {
          "output_type": "stream",
          "name": "stdout",
          "text": [
            "Element 2 occurs 3 times in the tuple.\n"
          ]
        }
      ]
    },
    {
      "cell_type": "code",
      "source": [
        "#30\n",
        "def get_set_from_input(prompt):\n",
        "    # Prompt the user for input and split by commas\n",
        "    input_string = input(prompt)\n",
        "\n",
        "    # Convert the input string to a set of strings\n",
        "    return set(input_string.replace(' ', '').split(','))\n",
        "\n",
        "def main():\n",
        "    # Get two sets from the user\n",
        "    set1 = get_set_from_input(\"Enter the first set of strings, separated by commas: \")\n",
        "    set2 = get_set_from_input(\"Enter the second set of strings, separated by commas: \")\n",
        "\n",
        "    # Find the symmetric difference of the two sets\n",
        "    symmetric_difference = set1 ^ set2\n",
        "\n",
        "    # Print the symmetric difference\n",
        "    print(f\"The symmetric difference of the two sets is: {sorted(symmetric_difference)}\")\n",
        "\n",
        "# Run the main function\n",
        "if __name__ == \"__main__\":\n",
        "    main()\n"
      ],
      "metadata": {
        "id": "3wchaZTirT7d",
        "colab": {
          "base_uri": "https://localhost:8080/"
        },
        "outputId": "add29f88-89c9-4487-c053-53c6d2eebb39"
      },
      "execution_count": null,
      "outputs": [
        {
          "output_type": "stream",
          "name": "stdout",
          "text": [
            "Enter the first set of strings, separated by commas: \"s\", \"p\", \"o\"\n",
            "Enter the second set of strings, separated by commas: \"o\"\n",
            "The symmetric difference of the two sets is: ['\"p\"', '\"s\"']\n"
          ]
        }
      ]
    },
    {
      "cell_type": "code",
      "source": [
        "#31 code that takes a list of words as input and returns a dictionary where the key are unique words and the values are the frequencies of those words in the input list\n",
        "def word_frequencies(word_list):\n",
        "    # Create an empty dictionary to store word frequencies\n",
        "    frequency_dict = {}\n",
        "\n",
        "    # Iterate through the list of words\n",
        "    for word in word_list:\n",
        "        # Increment the count for each word in the dictionary\n",
        "        if word in frequency_dict:\n",
        "            frequency_dict[word] += 1\n",
        "        else:\n",
        "            frequency_dict[word] = 1\n",
        "\n",
        "    return frequency_dict\n",
        "\n",
        "\n",
        "input_list = input(\"Enter a list of words, separated by spaces: \").split()\n",
        "frequency_dict = word_frequencies(input_list)\n",
        "print(f\"Word frequencies: {frequency_dict}\")\n"
      ],
      "metadata": {
        "id": "J3K5x4wKrT_f",
        "colab": {
          "base_uri": "https://localhost:8080/"
        },
        "outputId": "2e302fd6-4370-473c-afb1-8a6bdd189fd3"
      },
      "execution_count": null,
      "outputs": [
        {
          "output_type": "stream",
          "name": "stdout",
          "text": [
            "Enter a list of words, separated by spaces: \"a\", \"d\", \"b\", \"a\", \"a\"\n",
            "Word frequencies: {'\"a\",': 2, '\"d\",': 1, '\"b\",': 1, '\"a\"': 1}\n"
          ]
        }
      ]
    },
    {
      "cell_type": "code",
      "source": [
        "#32 write a code that takes two dictionary as input and merges them into a single dictionary. if there are common keys the values should be added together\n",
        "def merge_dictionaries(dict1, dict2):\n",
        "    # Create a new dictionary to hold the merged result\n",
        "    merged_dict = dict1.copy()  # Start with a copy of the first dictionary\n",
        "\n",
        "    # Iterate through the second dictionary\n",
        "    for key, value in dict2.items():\n",
        "        if key in merged_dict:\n",
        "            # If the key is already in the merged dictionary, add the values\n",
        "            merged_dict[key] += value\n",
        "        else:\n",
        "            # Otherwise, add the new key-value pair\n",
        "            merged_dict[key] = value\n",
        "\n",
        "    return merged_dict\n",
        "\n",
        "\n",
        "dict1 = {'a': 1, 'b': 2, 'c': 3}\n",
        "dict2 = {'b': 3, 'c': 4, 'd': 5}\n",
        "\n",
        "merged_dict = merge_dictionaries(dict1, dict2)\n",
        "print(f\"Merged dictionary: {merged_dict}\")\n"
      ],
      "metadata": {
        "id": "qXkLfnjDrUCc",
        "colab": {
          "base_uri": "https://localhost:8080/"
        },
        "outputId": "52c15aac-f54f-422f-bd1e-5250bdcad49c"
      },
      "execution_count": null,
      "outputs": [
        {
          "output_type": "stream",
          "name": "stdout",
          "text": [
            "Merged dictionary: {'a': 1, 'b': 5, 'c': 7, 'd': 5}\n"
          ]
        }
      ]
    },
    {
      "cell_type": "code",
      "source": [
        "#33 code that access a value in a nested dictionary. the function should take the dictionary and a list of keys as input, and return the corresponsing values. If any of the keys do not exists in the dictionary the function shuold return notes\n",
        "def get_nested_value(nested_dict, keys):\n",
        "    # Initialize the current level of the dictionary\n",
        "    current_dict = nested_dict\n",
        "\n",
        "    # Iterate through the list of keys\n",
        "    for key in keys:\n",
        "        # Check if the key exists in the current level\n",
        "        if key in current_dict:\n",
        "            # Move to the next level of the dictionary\n",
        "            current_dict = current_dict[key]\n",
        "        else:\n",
        "            # Key does not exist, return \"Not Found\"\n",
        "            return \"Not Found\"\n",
        "\n",
        "    # Return the value found at the end of the key path\n",
        "    return current_dict\n",
        "\n",
        "# Example usage\n",
        "nested_dict = {\n",
        "    'a': {\n",
        "        'b': {\n",
        "            'c': 10\n",
        "        }\n",
        "    },\n",
        "    'x': {\n",
        "        'y': {\n",
        "            'z': 20\n",
        "        }\n",
        "    }\n",
        "}\n",
        "\n",
        "keys = ['a', 'b', 'c']\n",
        "value = get_nested_value(nested_dict, keys)\n",
        "print(f\"Value: {value}\")  # Output: Value: 10\n",
        "\n",
        "keys = ['x', 'y', 'a']\n",
        "value = get_nested_value(nested_dict, keys)\n",
        "print(f\"Value: {value}\")\n"
      ],
      "metadata": {
        "id": "Y1_7xK6DoFi9",
        "colab": {
          "base_uri": "https://localhost:8080/"
        },
        "outputId": "cae648f6-a401-4ce9-870c-58702de084c4"
      },
      "execution_count": null,
      "outputs": [
        {
          "output_type": "stream",
          "name": "stdout",
          "text": [
            "Value: 10\n",
            "Value: Not Found\n"
          ]
        }
      ]
    },
    {
      "cell_type": "code",
      "source": [
        "#34 code that takes a dictionary as input and returns a sorted version of it based on the values. you can select weather to sort in ascending and descending order\n",
        "def sort_dict_by_value(d, ascending=True):\n",
        "    # Sort the dictionary by value and return a new dictionary\n",
        "    sorted_dict = dict(sorted(d.items(), key=lambda item: item[1], reverse=not ascending))\n",
        "    return sorted_dict\n",
        "\n",
        "# Example usage\n",
        "input_dict = {'a': 5, 'b': 2, 'c': 9, 'd': 1}\n",
        "\n",
        "# Sort in ascending order\n",
        "sorted_asc = sort_dict_by_value(input_dict, ascending=True)\n",
        "print(f\"Sorted in ascending order: {sorted_asc}\")\n",
        "\n",
        "# Sort in descending order\n",
        "sorted_desc = sort_dict_by_value(input_dict, ascending=False)\n",
        "print(f\"Sorted in descending order: {sorted_desc}\")\n"
      ],
      "metadata": {
        "colab": {
          "base_uri": "https://localhost:8080/"
        },
        "id": "bObeNS7yyget",
        "outputId": "ba8a951c-42d6-42bc-a71a-d295694825cd"
      },
      "execution_count": null,
      "outputs": [
        {
          "output_type": "stream",
          "name": "stdout",
          "text": [
            "Sorted in ascending order: {'d': 1, 'b': 2, 'a': 5, 'c': 9}\n",
            "Sorted in descending order: {'c': 9, 'a': 5, 'b': 2, 'd': 1}\n"
          ]
        }
      ]
    },
    {
      "cell_type": "code",
      "source": [
        "#35 code that inverts a dictionary, swapping keys and values. ensure that the inverted dictionary correctly handle cases where multiple keys have the same values by storing the keys as a list in the inveted dictionary\n",
        "def invert_dictionary(d):\n",
        "    # Create an empty dictionary to hold the inverted results\n",
        "    inverted_dict = {}\n",
        "\n",
        "    # Iterate through the original dictionary\n",
        "    for key, value in d.items():\n",
        "        if value in inverted_dict:\n",
        "            # If value already exists in inverted_dict, append the key to the list\n",
        "            inverted_dict[value].append(key)\n",
        "        else:\n",
        "            # Otherwise, create a new entry with the value as key and the key as the first element in the list\n",
        "            inverted_dict[value] = [key]\n",
        "\n",
        "    return inverted_dict\n",
        "\n",
        "\n",
        "original_dict = {'a': 1, 'b': 2, 'c': 1, 'd': 3}\n",
        "\n",
        "inverted_dict = invert_dictionary(original_dict)\n",
        "print(f\"Inverted dictionary: {inverted_dict}\")\n"
      ],
      "metadata": {
        "colab": {
          "base_uri": "https://localhost:8080/"
        },
        "id": "JP2uAfa_yghu",
        "outputId": "e16457a7-e781-4501-b8cf-43bdb195ad7a"
      },
      "execution_count": null,
      "outputs": [
        {
          "output_type": "stream",
          "name": "stdout",
          "text": [
            "Inverted dictionary: {1: ['a', 'c'], 2: ['b'], 3: ['d']}\n"
          ]
        }
      ]
    },
    {
      "cell_type": "code",
      "source": [],
      "metadata": {
        "id": "xD9RugdqygkV"
      },
      "execution_count": null,
      "outputs": []
    },
    {
      "cell_type": "code",
      "source": [],
      "metadata": {
        "id": "0cYbwN64ygnT"
      },
      "execution_count": null,
      "outputs": []
    },
    {
      "cell_type": "code",
      "source": [],
      "metadata": {
        "id": "PEKsvYooygqg"
      },
      "execution_count": null,
      "outputs": []
    },
    {
      "cell_type": "code",
      "source": [],
      "metadata": {
        "id": "Ba-RQqP9ygux"
      },
      "execution_count": null,
      "outputs": []
    }
  ]
}